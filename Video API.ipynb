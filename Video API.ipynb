{
 "cells": [
  {
   "cell_type": "code",
   "execution_count": 1,
   "metadata": {},
   "outputs": [],
   "source": [
    "import requests\n",
    "import numpy as np\n",
    "import math as m\n",
    "import pandas as pd\n",
    "import re\n",
    "import datetime \n",
    "import matplotlib.pyplot as plt"
   ]
  },
  {
   "cell_type": "code",
   "execution_count": 2,
   "metadata": {},
   "outputs": [],
   "source": [
    "def get_playlist_id(channel_id, api_key):\n",
    "    playlist_url = \"https://www.googleapis.com/youtube/v3/channels?\"\n",
    "    playlist_part = \"contentDetails\"\n",
    "    playlist_parameters = {\"key\": api_key,\n",
    "                           \"part\": playlist_part,\n",
    "                           \"id\": channel_id}\n",
    "\n",
    "    playlist_query = requests.get(playlist_url, playlist_parameters)\n",
    "    playlist_results = playlist_query.json()\n",
    "    playlist_id = playlist_results[\"items\"][0][playlist_part][\"relatedPlaylists\"][\"uploads\"]\n",
    "    return playlist_id\n",
    "\n",
    "    \n",
    "def get_video_ids(playlist_id, api_key):\n",
    "    video_url = \"https://www.googleapis.com/youtube/v3/playlistItems?\"\n",
    "    video_part = \"snippet\"\n",
    "    max_results = 50  # api supports up to 50\n",
    "    video_parameters = {\"key\": api_key,\n",
    "                        \"part\": video_part,\n",
    "                        \"playlistId\": playlist_id,\n",
    "                        \"maxResults\": max_results,\n",
    "                        \"pageToken\": \"\"}\n",
    "    video_query = requests.get(video_url, video_parameters)\n",
    "    video_results = video_query.json()\n",
    "    video_data = []\n",
    "    for i in range(len(video_results[\"items\"])):\n",
    "        video_data.append(video_results[\"items\"][i][\"snippet\"][\"resourceId\"][\"videoId\"])\n",
    "    while \"nextPageToken\" in video_results:\n",
    "        video_parameters[\"pageToken\"] = video_results[\"nextPageToken\"]\n",
    "        video_query = requests.get(video_url, video_parameters)\n",
    "        video_results = video_query.json()\n",
    "        for i in range(len(video_results[\"items\"])):\n",
    "            video_data.append(video_results[\"items\"][i][\"snippet\"][\"resourceId\"][\"videoId\"])            \n",
    "    return video_data\n",
    "\n",
    "    \n",
    "def get_video_info(video_ids, api_key):    \n",
    "    video_url = \"https://www.googleapis.com/youtube/v3/videos?\"\n",
    "    video_part = \"snippet, contentDetails, statistics\"\n",
    "    snippet_columns = [\"title\", \"description\",\"categoryId\", \"publishedAt\"] #, \"defaultAudioLanguage\"\n",
    "    statistics_columns = [\"viewCount\", \"likeCount\", \"dislikeCount\", \"favoriteCount\",\"commentCount\"]\n",
    "    output = []\n",
    "    i = 0\n",
    "    while(((i*50) + 50) < len(video_ids)):\n",
    "        id_list = \", \".join(video_ids[i*50:50+(i*50)])\n",
    "        video_parameters = {\"key\": api_key,\n",
    "                            \"id\": id_list,\n",
    "                            \"part\": video_part}\n",
    "    \n",
    "        video_query = requests.get(video_url, video_parameters)\n",
    "        video_results = video_query.json()\n",
    "        for j in range(50):\n",
    "            row = [video_ids[(i*50)+j]]\n",
    "            row.extend([video_results[\"items\"][j][\"snippet\"][column] for column in snippet_columns])\n",
    "            row[-1] = datetime.datetime.strptime(row[-1], \"%Y-%m-%dT%H:%M:%S.%fZ\").strftime('%m/%d/%Y %H:%M:%S')\n",
    "            row.append(datetime.datetime.now().strftime('%m/%d/%Y %H:%M:%S'))\n",
    "            row.append(get_duration_in_seconds(video_results[\"items\"][j][\"contentDetails\"][\"duration\"]))  \n",
    "            row.extend([video_results[\"items\"][j][\"statistics\"][column] for column in statistics_columns])\n",
    "            output.append(row)\n",
    "            j = j + 1\n",
    "        i = i + 1\n",
    "        \n",
    "    id_list = \", \".join(video_ids[i*50:len(video_ids)])\n",
    "    video_parameters = {\"key\": api_key,\n",
    "                        \"id\": id_list,\n",
    "                        \"part\": video_part}\n",
    "\n",
    "    video_query = requests.get(video_url, video_parameters)\n",
    "    video_results = video_query.json()\n",
    "    for j in range(len(video_ids) - i*50):\n",
    "        row = [video_ids[(i*50)+j]]\n",
    "        row.extend([video_results[\"items\"][j][\"snippet\"][column] for column in snippet_columns])\n",
    "        row[-1] = datetime.datetime.strptime(row[-1], \"%Y-%m-%dT%H:%M:%S.%fZ\").strftime('%m/%d/%Y %H:%M:%S')\n",
    "        row.append(datetime.datetime.now().strftime('%m/%d/%Y %H:%M:%S'))\n",
    "        row.append(get_duration_in_seconds(video_results[\"items\"][j][\"contentDetails\"][\"duration\"]))  \n",
    "        row.extend([video_results[\"items\"][j][\"statistics\"][column] for column in statistics_columns])\n",
    "        output.append(row)\n",
    "        j = j + 1\n",
    "    i = i + 1\n",
    "    return output\n",
    "\n",
    "\n",
    "def get_duration_in_seconds(duration):    \n",
    "    days = re.findall(r'[0-9]+D', duration)\n",
    "    hours = re.findall(r'[0-9]+H', duration)\n",
    "    minutes = re.findall(r'[0-9]+M', duration)\n",
    "    seconds = re.findall(r'[0-9]+S', duration)\n",
    "    if len(days) == 0:\n",
    "        days = \"00\"\n",
    "    else:\n",
    "        days = days[0][:-1].rjust(2, '0') \n",
    "    if len(hours) == 0:\n",
    "        hours = \"00\"\n",
    "    else:\n",
    "        hours = hours[0][:-1].rjust(2, '0')\n",
    "    if len(minutes) == 0:\n",
    "        minutes = \"00\"\n",
    "    else:\n",
    "        minutes = minutes[0][:-1].rjust(2, '0') \n",
    "    if len(seconds) == 0:\n",
    "        seconds = \"00\"\n",
    "    else:\n",
    "        seconds = seconds[0][:-1].rjust(2, '0') \n",
    "    hours = int(hours) + int(days)*24\n",
    "    minutes = int(minutes) + int(hours)*60\n",
    "    seconds = int(seconds) + int(minutes)*60\n",
    "    return seconds"
   ]
  },
  {
   "cell_type": "code",
   "execution_count": 102,
   "metadata": {
    "scrolled": true
   },
   "outputs": [
    {
     "data": {
      "text/html": [
       "<div>\n",
       "<style scoped>\n",
       "    .dataframe tbody tr th:only-of-type {\n",
       "        vertical-align: middle;\n",
       "    }\n",
       "\n",
       "    .dataframe tbody tr th {\n",
       "        vertical-align: top;\n",
       "    }\n",
       "\n",
       "    .dataframe thead th {\n",
       "        text-align: right;\n",
       "    }\n",
       "</style>\n",
       "<table border=\"1\" class=\"dataframe\">\n",
       "  <thead>\n",
       "    <tr style=\"text-align: right;\">\n",
       "      <th></th>\n",
       "      <th>id</th>\n",
       "      <th>title</th>\n",
       "      <th>description</th>\n",
       "      <th>categoryId</th>\n",
       "      <th>publishedAt</th>\n",
       "      <th>lastAvailable</th>\n",
       "      <th>duration</th>\n",
       "      <th>viewCount</th>\n",
       "      <th>likeCount</th>\n",
       "      <th>dislikeCount</th>\n",
       "      <th>favoriteCount</th>\n",
       "      <th>commentCount</th>\n",
       "    </tr>\n",
       "  </thead>\n",
       "  <tbody>\n",
       "    <tr>\n",
       "      <th>0</th>\n",
       "      <td>UuGpm01SPcA</td>\n",
       "      <td>Why I Left</td>\n",
       "      <td>I wanted to share my side of the story to my v...</td>\n",
       "      <td>26</td>\n",
       "      <td>2017-06-01 19:45:34</td>\n",
       "      <td>11/08/2018 23:13:23</td>\n",
       "      <td>672</td>\n",
       "      <td>12379461</td>\n",
       "      <td>604780</td>\n",
       "      <td>24245</td>\n",
       "      <td>0</td>\n",
       "      <td>49054</td>\n",
       "    </tr>\n",
       "    <tr>\n",
       "      <th>1</th>\n",
       "      <td>1-31plM1sJ4</td>\n",
       "      <td>Mastering the Art of Hair Removal</td>\n",
       "      <td>Hi beauties! Sorry I've been away from this ch...</td>\n",
       "      <td>26</td>\n",
       "      <td>2016-07-25 09:29:06</td>\n",
       "      <td>11/08/2018 23:13:23</td>\n",
       "      <td>297</td>\n",
       "      <td>2288779</td>\n",
       "      <td>51814</td>\n",
       "      <td>1376</td>\n",
       "      <td>0</td>\n",
       "      <td>3265</td>\n",
       "    </tr>\n",
       "    <tr>\n",
       "      <th>2</th>\n",
       "      <td>6OQnYhYyeoE</td>\n",
       "      <td>Mastering the Art of Sunless Tanning</td>\n",
       "      <td>MY WEBCOMIC HELIOS : FEMINA  is free to read h...</td>\n",
       "      <td>26</td>\n",
       "      <td>2016-07-01 13:00:00</td>\n",
       "      <td>11/08/2018 23:13:23</td>\n",
       "      <td>330</td>\n",
       "      <td>594873</td>\n",
       "      <td>16623</td>\n",
       "      <td>526</td>\n",
       "      <td>0</td>\n",
       "      <td>1284</td>\n",
       "    </tr>\n",
       "    <tr>\n",
       "      <th>3</th>\n",
       "      <td>MXm7obi1yHM</td>\n",
       "      <td>Final Dynasty : Aesthetic Inspiration</td>\n",
       "      <td>You can binge read my story book HELIOS : FEMI...</td>\n",
       "      <td>26</td>\n",
       "      <td>2016-06-18 15:45:49</td>\n",
       "      <td>11/08/2018 23:13:23</td>\n",
       "      <td>121</td>\n",
       "      <td>1843146</td>\n",
       "      <td>57415</td>\n",
       "      <td>2158</td>\n",
       "      <td>0</td>\n",
       "      <td>4207</td>\n",
       "    </tr>\n",
       "    <tr>\n",
       "      <th>4</th>\n",
       "      <td>1N3QQXxZ1SQ</td>\n",
       "      <td>Mastering the Art of Cushion Compacts</td>\n",
       "      <td>MY WEBCOMIC HELIOS : FEMINA  is free to read h...</td>\n",
       "      <td>26</td>\n",
       "      <td>2016-06-13 20:21:12</td>\n",
       "      <td>11/08/2018 23:13:23</td>\n",
       "      <td>305</td>\n",
       "      <td>1488645</td>\n",
       "      <td>43560</td>\n",
       "      <td>1029</td>\n",
       "      <td>0</td>\n",
       "      <td>1956</td>\n",
       "    </tr>\n",
       "  </tbody>\n",
       "</table>\n",
       "</div>"
      ],
      "text/plain": [
       "            id                                  title  \\\n",
       "0  UuGpm01SPcA                             Why I Left   \n",
       "1  1-31plM1sJ4      Mastering the Art of Hair Removal   \n",
       "2  6OQnYhYyeoE   Mastering the Art of Sunless Tanning   \n",
       "3  MXm7obi1yHM  Final Dynasty : Aesthetic Inspiration   \n",
       "4  1N3QQXxZ1SQ  Mastering the Art of Cushion Compacts   \n",
       "\n",
       "                                         description categoryId  \\\n",
       "0  I wanted to share my side of the story to my v...         26   \n",
       "1  Hi beauties! Sorry I've been away from this ch...         26   \n",
       "2  MY WEBCOMIC HELIOS : FEMINA  is free to read h...         26   \n",
       "3  You can binge read my story book HELIOS : FEMI...         26   \n",
       "4  MY WEBCOMIC HELIOS : FEMINA  is free to read h...         26   \n",
       "\n",
       "          publishedAt        lastAvailable  duration viewCount likeCount  \\\n",
       "0 2017-06-01 19:45:34  11/08/2018 23:13:23       672  12379461    604780   \n",
       "1 2016-07-25 09:29:06  11/08/2018 23:13:23       297   2288779     51814   \n",
       "2 2016-07-01 13:00:00  11/08/2018 23:13:23       330    594873     16623   \n",
       "3 2016-06-18 15:45:49  11/08/2018 23:13:23       121   1843146     57415   \n",
       "4 2016-06-13 20:21:12  11/08/2018 23:13:23       305   1488645     43560   \n",
       "\n",
       "  dislikeCount favoriteCount commentCount  \n",
       "0        24245             0        49054  \n",
       "1         1376             0         3265  \n",
       "2          526             0         1284  \n",
       "3         2158             0         4207  \n",
       "4         1029             0         1956  "
      ]
     },
     "execution_count": 102,
     "metadata": {},
     "output_type": "execute_result"
    }
   ],
   "source": [
    "\n",
    "\n",
    "arxiv = \"UCNIkB2IeJ-6AmZv7bQ1oBYg\" #arXiv\n",
    "dunkey = \"UCsvn_Po0SmunchJYOWpOxMg\" #dunkey\n",
    "mphan = \"UCuYx81nzzz4OFQrhbKDzTng\" #michelle phan\n",
    "\n",
    "columns = [\"id\", \"title\", \"description\", \"categoryId\", \"publishedAt\", \"lastAvailable\", \"duration\", \"viewCount\", \"likeCount\", \"dislikeCount\", \"favoriteCount\",\"commentCount\"]\n",
    "\n",
    "uploads = get_playlist_id(mphan, api_key)\n",
    "video_ids = get_video_ids(uploads, api_key)\n",
    "video_dataframe = pd.DataFrame(get_video_info(video_ids, api_key), columns=columns)\n",
    "video_dataframe[\"publishedAt\"] = pd.to_datetime(video_dataframe[\"publishedAt\"])\n",
    "video_dataframe = video_dataframe.sort_values(by=[\"publishedAt\"], ascending=False)\n",
    "video_dataframe.head()"
   ]
  },
  {
   "cell_type": "code",
   "execution_count": 103,
   "metadata": {},
   "outputs": [],
   "source": [
    "def search_video_ids(channel_id, api_key):\n",
    "    search_url = \"https://www.googleapis.com/youtube/v3/search?\"\n",
    "    max_results = 50 #api supports up to 50\n",
    "    search_parameters = {\"key\": api_key,\n",
    "                         \"type\": \"video\",\n",
    "                         \"part\": \"id\",\n",
    "                         \"maxResults\": max_results,\n",
    "                         \"order\": \"date\",\n",
    "                         \"channelId\": channel_id}\n",
    "    \n",
    "    search_query = requests.get(search_url, search_parameters)\n",
    "    search_results = search_query.json()    \n",
    "    video_list = []\n",
    "    for i in range(len(search_results[\"items\"])):\n",
    "        video_list.append(search_results[\"items\"][i][\"id\"][\"videoId\"])\n",
    "\n",
    "    while \"nextPageToken\" in search_results:\n",
    "        search_parameters[\"pageToken\"] = search_results[\"nextPageToken\"]\n",
    "        search_query = requests.get(search_url, search_parameters)\n",
    "        search_results = search_query.json() \n",
    "        for i in range(len(search_results[\"items\"])):\n",
    "            video_list.append(search_results[\"items\"][i][\"id\"][\"videoId\"])   \n",
    "    return video_list\n",
    "\n",
    "test = search_video_ids(mphan, api_key)\n",
    "set(video_ids) == set(test).union(set(video_ids))\n",
    "#searching by channel id does not appear to return any extra videos compared to search by uploads playlist"
   ]
  },
  {
   "cell_type": "code",
   "execution_count": 105,
   "metadata": {},
   "outputs": [
    {
     "data": {
      "image/png": "[encoded data removed]",
      "text/plain": [
       "<Figure size 432x288 with 1 Axes>"
      ]
     },
     "metadata": {},
     "output_type": "display_data"
    }
   ],
   "source": [
    "view_counts = [m.log(int(x)) for x in video_dataframe[\"viewCount\"]]\n",
    "plt.hist(view_counts, 30)\n",
    "plt.show();"
   ]
  },
  {
   "cell_type": "code",
   "execution_count": 106,
   "metadata": {},
   "outputs": [
    {
     "data": {
      "image/png": "[encoded data removed]",
      "text/plain": [
       "<Figure size 432x288 with 1 Axes>"
      ]
     },
     "metadata": {},
     "output_type": "display_data"
    }
   ],
   "source": [
    "durations = np.log(video_dataframe[\"duration\"])\n",
    "plt.hist(durations, 30)\n",
    "plt.show();"
   ]
  },
  {
   "cell_type": "code",
   "execution_count": 107,
   "metadata": {},
   "outputs": [
    {
     "data": {
      "image/png": "[encoded data removed]",
      "text/plain": [
       "<Figure size 432x288 with 1 Axes>"
      ]
     },
     "metadata": {},
     "output_type": "display_data"
    }
   ],
   "source": [
    "uploads = [datetime.datetime.strptime(str(time), \"%Y-%m-%d %H:%M:%S\") for time in video_dataframe[\"publishedAt\"]]\n",
    "uploads = [m.log(-delta.total_seconds()) for delta in np.diff(uploads)]\n",
    "plt.hist(uploads, 30)\n",
    "plt.show();"
   ]
  },
  {
   "cell_type": "code",
   "execution_count": 108,
   "metadata": {},
   "outputs": [
    {
     "data": {
      "image/png": "[encoded data removed]",
      "text/plain": [
       "<Figure size 432x288 with 1 Axes>"
      ]
     },
     "metadata": {},
     "output_type": "display_data"
    }
   ],
   "source": [
    "hours = [time.hour for time in video_dataframe[\"publishedAt\"]]\n",
    "plt.hist(hours, 24)\n",
    "plt.show();"
   ]
  },
  {
   "cell_type": "code",
   "execution_count": 109,
   "metadata": {},
   "outputs": [
    {
     "name": "stdout",
     "output_type": "stream",
     "text": [
      "0 o'clock: 19\n",
      "1 o'clock: 17\n",
      "2 o'clock: 11\n",
      "3 o'clock: 14\n",
      "4 o'clock: 14\n",
      "5 o'clock: 10\n",
      "6 o'clock: 16\n",
      "7 o'clock: 12\n",
      "8 o'clock: 9\n",
      "9 o'clock: 11\n",
      "10 o'clock: 4\n",
      "11 o'clock: 3\n",
      "12 o'clock: 4\n",
      "13 o'clock: 4\n",
      "14 o'clock: 4\n",
      "15 o'clock: 7\n",
      "16 o'clock: 6\n",
      "17 o'clock: 10\n",
      "18 o'clock: 4\n",
      "19 o'clock: 14\n",
      "20 o'clock: 12\n",
      "21 o'clock: 15\n",
      "22 o'clock: 19\n",
      "23 o'clock: 10\n"
     ]
    }
   ],
   "source": [
    "for i in range(24):\n",
    "    print(str(i)+\" o'clock:\", hours.count(i))"
   ]
  }
 ],
 "metadata": {
  "kernelspec": {
   "display_name": "Python 3",
   "language": "python",
   "name": "python3"
  },
  "language_info": {
   "codemirror_mode": {
    "name": "ipython",
    "version": 3
   },
   "file_extension": ".py",
   "mimetype": "text/x-python",
   "name": "python",
   "nbconvert_exporter": "python",
   "pygments_lexer": "ipython3",
   "version": "3.6.5"
  }
 },
 "nbformat": 4,
 "nbformat_minor": 2
}
